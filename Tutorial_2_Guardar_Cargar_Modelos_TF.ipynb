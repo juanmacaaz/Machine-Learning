{
  "nbformat": 4,
  "nbformat_minor": 0,
  "metadata": {
    "colab": {
      "name": "Tutorial_2_Guardar_Cargar_Modelos_TF.ipynb",
      "provenance": [],
      "collapsed_sections": [],
      "authorship_tag": "ABX9TyOD/m4u3gX03no/4e60qyiK"
    },
    "kernelspec": {
      "name": "python3",
      "display_name": "Python 3"
    },
    "accelerator": "GPU"
  },
  "cells": [
    {
      "cell_type": "code",
      "metadata": {
        "id": "TCDIpTz9tO7H",
        "colab_type": "code",
        "colab": {}
      },
      "source": [
        "# Guardar y cargar modelos con TF\n",
        "\n",
        "!pip install -q pyyaml h5py       # Libreria para persistir los datos en el HD\n",
        "                                  # Esta especializada en manipular datos de Numpy\n",
        "                                  # y tratar grandes volumenes de datos (Muy util para este tipo de redes)"
      ],
      "execution_count": 0,
      "outputs": []
    },
    {
      "cell_type": "code",
      "metadata": {
        "id": "14C54q1svNwL",
        "colab_type": "code",
        "colab": {
          "base_uri": "https://localhost:8080/",
          "height": 34
        },
        "outputId": "9d5b5d4f-3b7d-48df-ebf9-eabdc8d25d2c"
      },
      "source": [
        "from __future__ import absolute_import, division, print_function, unicode_literals  # Librerias para Colab (Solo para entornos de trabajo Colab)\n",
        "\n",
        "import os\n",
        "\n",
        "import tensorflow as tf\n",
        "from tensorflow import keras\n",
        "\n",
        "print(tf.version.VERSION)"
      ],
      "execution_count": 3,
      "outputs": [
        {
          "output_type": "stream",
          "text": [
            "1.15.0\n"
          ],
          "name": "stdout"
        }
      ]
    },
    {
      "cell_type": "code",
      "metadata": {
        "id": "kVGe6k2gwcNv",
        "colab_type": "code",
        "colab": {
          "base_uri": "https://localhost:8080/",
          "height": 367
        },
        "outputId": "950f96ec-2fa9-4622-9c2f-a48d09db11bf"
      },
      "source": [
        "# Para este ejemplo usaremos 1000 imagenes\n",
        "\n",
        "(train_images, train_labels), (test_images, test_labels) = tf.keras.datasets.mnist.load_data()\n",
        "\n",
        "train_labels = train_labels[:1000]\n",
        "test_labels = test_labels[:1000]\n",
        "\n",
        "train_images = train_images[:1000].reshape(-1, 28 * 28) / 255.0\n",
        "test_images = test_images[:1000].reshape(-1, 28 * 28) / 255.0\n",
        "\n",
        "# Definimos el modelo en un metodo\n",
        "\n",
        "def create_model():\n",
        "  model = tf.keras.models.Sequential([\n",
        "    keras.layers.Dense(512, activation='relu', input_shape=(784,)),\n",
        "    keras.layers.Dropout(0.2),                                        # Esta capa hace que en el forward alguna neuronas de la capa superior esten desactivadas, para reducir el Overfiting\n",
        "    keras.layers.Dense(10, activation='softmax')\n",
        "  ])\n",
        "\n",
        "  model.compile(optimizer='adam',\n",
        "                loss='sparse_categorical_crossentropy',\n",
        "                metrics=['accuracy'])\n",
        "\n",
        "  return model\n",
        "\n",
        "# Creamos una instancia del modelo\n",
        "model = create_model()\n",
        "\n",
        "# Mostramos el modelo descrito\n",
        "model.summary()\n"
      ],
      "execution_count": 4,
      "outputs": [
        {
          "output_type": "stream",
          "text": [
            "Downloading data from https://storage.googleapis.com/tensorflow/tf-keras-datasets/mnist.npz\n",
            "11493376/11490434 [==============================] - 0s 0us/step\n",
            "WARNING:tensorflow:From /usr/local/lib/python3.6/dist-packages/tensorflow_core/python/ops/resource_variable_ops.py:1630: calling BaseResourceVariable.__init__ (from tensorflow.python.ops.resource_variable_ops) with constraint is deprecated and will be removed in a future version.\n",
            "Instructions for updating:\n",
            "If using Keras pass *_constraint arguments to layers.\n",
            "Model: \"sequential\"\n",
            "_________________________________________________________________\n",
            "Layer (type)                 Output Shape              Param #   \n",
            "=================================================================\n",
            "dense (Dense)                (None, 512)               401920    \n",
            "_________________________________________________________________\n",
            "dropout (Dropout)            (None, 512)               0         \n",
            "_________________________________________________________________\n",
            "dense_1 (Dense)              (None, 10)                5130      \n",
            "=================================================================\n",
            "Total params: 407,050\n",
            "Trainable params: 407,050\n",
            "Non-trainable params: 0\n",
            "_________________________________________________________________\n"
          ],
          "name": "stdout"
        }
      ]
    },
    {
      "cell_type": "code",
      "metadata": {
        "id": "v7nQcYiAyQRJ",
        "colab_type": "code",
        "colab": {
          "base_uri": "https://localhost:8080/",
          "height": 746
        },
        "outputId": "67946951-298c-4b35-bda9-2db25c441008"
      },
      "source": [
        "# Ahora realizaremos la posibidad de hacer ceckpoint en nuestro modelo\n",
        "\n",
        "# Creamos la variable para almacenar la ruta\n",
        "checkpoint_path = \"training_1/cp.ckpt\"\n",
        "checkpoint_dir = os.path.dirname(checkpoint_path)\n",
        "\n",
        "cp_callback = tf.keras.callbacks.ModelCheckpoint(filepath=checkpoint_path,  # Indicamos la direccion donde queremos almacenar los checkpoints\n",
        "                                                 save_weights_only=True,    # Guarda solamenre cada epoca \n",
        "                                                 verbose=1)                 # Tipo de salida de informacion\n",
        "\n",
        "model.fit(train_images, \n",
        "          train_labels,  \n",
        "          epochs=10,\n",
        "          validation_data=(test_images,test_labels),\n",
        "          callbacks=[cp_callback])                                          # Pasamos por parametro el callback\n",
        "\n",
        "\n"
      ],
      "execution_count": 5,
      "outputs": [
        {
          "output_type": "stream",
          "text": [
            "Train on 1000 samples, validate on 1000 samples\n",
            "Epoch 1/10\n",
            " 576/1000 [================>.............] - ETA: 1s - loss: 1.4886 - acc: 0.5816 \n",
            "Epoch 00001: saving model to training_1/cp.ckpt\n",
            "1000/1000 [==============================] - 2s 2ms/sample - loss: 1.1593 - acc: 0.6760 - val_loss: 0.7018 - val_acc: 0.7920\n",
            "Epoch 2/10\n",
            " 576/1000 [================>.............] - ETA: 0s - loss: 0.4715 - acc: 0.8767\n",
            "Epoch 00002: saving model to training_1/cp.ckpt\n",
            "1000/1000 [==============================] - 0s 188us/sample - loss: 0.4248 - acc: 0.8810 - val_loss: 0.5213 - val_acc: 0.8370\n",
            "Epoch 3/10\n",
            " 640/1000 [==================>...........] - ETA: 0s - loss: 0.2984 - acc: 0.9250\n",
            "Epoch 00003: saving model to training_1/cp.ckpt\n",
            "1000/1000 [==============================] - 0s 147us/sample - loss: 0.2845 - acc: 0.9290 - val_loss: 0.4813 - val_acc: 0.8420\n",
            "Epoch 4/10\n",
            " 768/1000 [======================>.......] - ETA: 0s - loss: 0.2025 - acc: 0.9440\n",
            "Epoch 00004: saving model to training_1/cp.ckpt\n",
            "1000/1000 [==============================] - 0s 138us/sample - loss: 0.2044 - acc: 0.9440 - val_loss: 0.4678 - val_acc: 0.8430\n",
            "Epoch 5/10\n",
            " 864/1000 [========================>.....] - ETA: 0s - loss: 0.1500 - acc: 0.9664\n",
            "Epoch 00005: saving model to training_1/cp.ckpt\n",
            "1000/1000 [==============================] - 0s 121us/sample - loss: 0.1534 - acc: 0.9610 - val_loss: 0.4272 - val_acc: 0.8590\n",
            "Epoch 6/10\n",
            " 896/1000 [=========================>....] - ETA: 0s - loss: 0.1204 - acc: 0.9732\n",
            "Epoch 00006: saving model to training_1/cp.ckpt\n",
            "1000/1000 [==============================] - 0s 121us/sample - loss: 0.1176 - acc: 0.9740 - val_loss: 0.4301 - val_acc: 0.8490\n",
            "Epoch 7/10\n",
            " 864/1000 [========================>.....] - ETA: 0s - loss: 0.0753 - acc: 0.9907\n",
            "Epoch 00007: saving model to training_1/cp.ckpt\n",
            "1000/1000 [==============================] - 0s 128us/sample - loss: 0.0806 - acc: 0.9900 - val_loss: 0.4750 - val_acc: 0.8510\n",
            "Epoch 8/10\n",
            " 832/1000 [=======================>......] - ETA: 0s - loss: 0.0657 - acc: 0.9916\n",
            "Epoch 00008: saving model to training_1/cp.ckpt\n",
            "1000/1000 [==============================] - 0s 131us/sample - loss: 0.0640 - acc: 0.9920 - val_loss: 0.4301 - val_acc: 0.8590\n",
            "Epoch 9/10\n",
            " 704/1000 [====================>.........] - ETA: 0s - loss: 0.0488 - acc: 0.9972\n",
            "Epoch 00009: saving model to training_1/cp.ckpt\n",
            "1000/1000 [==============================] - 0s 147us/sample - loss: 0.0478 - acc: 0.9960 - val_loss: 0.4105 - val_acc: 0.8660\n",
            "Epoch 10/10\n",
            " 480/1000 [=============>................] - ETA: 0s - loss: 0.0350 - acc: 1.0000\n",
            "Epoch 00010: saving model to training_1/cp.ckpt\n",
            "1000/1000 [==============================] - 0s 159us/sample - loss: 0.0373 - acc: 0.9980 - val_loss: 0.4392 - val_acc: 0.8620\n"
          ],
          "name": "stdout"
        },
        {
          "output_type": "execute_result",
          "data": {
            "text/plain": [
              "<tensorflow.python.keras.callbacks.History at 0x7ffb98568c50>"
            ]
          },
          "metadata": {
            "tags": []
          },
          "execution_count": 5
        }
      ]
    },
    {
      "cell_type": "code",
      "metadata": {
        "id": "BAtfpzbH0zAG",
        "colab_type": "code",
        "colab": {
          "base_uri": "https://localhost:8080/",
          "height": 52
        },
        "outputId": "fa0e49e6-367d-4517-e695-60631f75836a"
      },
      "source": [
        "# Comprobamos la salida\n",
        "!ls {checkpoint_dir}"
      ],
      "execution_count": 12,
      "outputs": [
        {
          "output_type": "stream",
          "text": [
            "checkpoint\t\t     cp.ckpt.data-00001-of-00002\n",
            "cp.ckpt.data-00000-of-00002  cp.ckpt.index\n"
          ],
          "name": "stdout"
        }
      ]
    },
    {
      "cell_type": "code",
      "metadata": {
        "id": "5z7l4EV716vG",
        "colab_type": "code",
        "colab": {
          "base_uri": "https://localhost:8080/",
          "height": 52
        },
        "outputId": "078e7aa0-e849-4cd7-b32a-f57678f647bd"
      },
      "source": [
        "# Ahora vamos a crear otro modelo para cargar los datos preentrenados del modelo anterior\n",
        "model = create_model()\n",
        "\n",
        "# Evaluamos el modelo sin entrenar\n",
        "loss, acc = model.evaluate(test_images, test_labels, verbose=2)\n",
        "print(\"Su Accuracy es de:\", acc*100, \"%\")"
      ],
      "execution_count": 13,
      "outputs": [
        {
          "output_type": "stream",
          "text": [
            "1000/1000 - 0s - loss: 2.3964 - acc: 0.0560\n",
            "Su Accuracy es de: 5.60000017285347 %\n"
          ],
          "name": "stdout"
        }
      ]
    },
    {
      "cell_type": "code",
      "metadata": {
        "id": "8ftRRhsv2dwN",
        "colab_type": "code",
        "colab": {
          "base_uri": "https://localhost:8080/",
          "height": 52
        },
        "outputId": "495e5e95-b92c-4f97-a417-2fdc4a374e33"
      },
      "source": [
        "# Cargamos los pesos del modelo preentrenado\n",
        "model.load_weights(checkpoint_path)\n",
        "\n",
        "# Volvemos a mirar su Accuracy\n",
        "loss, acc = model.evaluate(test_images, test_labels, verbose=2)\n",
        "print(\"Su Accuracy es de:\", acc*100, \"%\")"
      ],
      "execution_count": 14,
      "outputs": [
        {
          "output_type": "stream",
          "text": [
            "1000/1000 - 0s - loss: 0.4392 - acc: 0.8620\n",
            "Su Accuracy es de: 86.19999885559082 %\n"
          ],
          "name": "stdout"
        }
      ]
    },
    {
      "cell_type": "code",
      "metadata": {
        "id": "r1crP_Kr3UAT",
        "colab_type": "code",
        "colab": {
          "base_uri": "https://localhost:8080/",
          "height": 746
        },
        "outputId": "0adbb034-e301-4951-8c1d-b17ae4d62f3c"
      },
      "source": [
        "# Ahora podemos continuar entrenando a nuestra red nuevamente con el metodo fit :)\n",
        "\n",
        "model.fit(train_images, \n",
        "          train_labels,  \n",
        "          epochs=10,\n",
        "          validation_data=(test_images,test_labels),\n",
        "          callbacks=[cp_callback])   "
      ],
      "execution_count": 22,
      "outputs": [
        {
          "output_type": "stream",
          "text": [
            "Train on 1000 samples, validate on 1000 samples\n",
            "Epoch 1/10\n",
            " 800/1000 [=======================>......] - ETA: 0s - loss: 0.0302 - acc: 1.0000\n",
            "Epoch 00001: saving model to training_1/cp.ckpt\n",
            "1000/1000 [==============================] - 0s 132us/sample - loss: 0.0295 - acc: 1.0000 - val_loss: 0.4148 - val_acc: 0.8750\n",
            "Epoch 2/10\n",
            " 768/1000 [======================>.......] - ETA: 0s - loss: 0.0241 - acc: 1.0000\n",
            "Epoch 00002: saving model to training_1/cp.ckpt\n",
            "1000/1000 [==============================] - 0s 156us/sample - loss: 0.0239 - acc: 0.9990 - val_loss: 0.4133 - val_acc: 0.8680\n",
            "Epoch 3/10\n",
            " 832/1000 [=======================>......] - ETA: 0s - loss: 0.0212 - acc: 1.0000\n",
            "Epoch 00003: saving model to training_1/cp.ckpt\n",
            "1000/1000 [==============================] - 0s 139us/sample - loss: 0.0210 - acc: 1.0000 - val_loss: 0.4146 - val_acc: 0.8780\n",
            "Epoch 4/10\n",
            " 800/1000 [=======================>......] - ETA: 0s - loss: 0.0160 - acc: 1.0000\n",
            "Epoch 00004: saving model to training_1/cp.ckpt\n",
            "1000/1000 [==============================] - 0s 138us/sample - loss: 0.0164 - acc: 1.0000 - val_loss: 0.4176 - val_acc: 0.8730\n",
            "Epoch 5/10\n",
            " 800/1000 [=======================>......] - ETA: 0s - loss: 0.0141 - acc: 1.0000\n",
            "Epoch 00005: saving model to training_1/cp.ckpt\n",
            "1000/1000 [==============================] - 0s 136us/sample - loss: 0.0144 - acc: 1.0000 - val_loss: 0.4238 - val_acc: 0.8700\n",
            "Epoch 6/10\n",
            " 736/1000 [=====================>........] - ETA: 0s - loss: 0.0125 - acc: 1.0000\n",
            "Epoch 00006: saving model to training_1/cp.ckpt\n",
            "1000/1000 [==============================] - 0s 147us/sample - loss: 0.0128 - acc: 1.0000 - val_loss: 0.4280 - val_acc: 0.8710\n",
            "Epoch 7/10\n",
            " 736/1000 [=====================>........] - ETA: 0s - loss: 0.0115 - acc: 1.0000\n",
            "Epoch 00007: saving model to training_1/cp.ckpt\n",
            "1000/1000 [==============================] - 0s 143us/sample - loss: 0.0120 - acc: 1.0000 - val_loss: 0.4220 - val_acc: 0.8780\n",
            "Epoch 8/10\n",
            " 768/1000 [======================>.......] - ETA: 0s - loss: 0.0103 - acc: 1.0000\n",
            "Epoch 00008: saving model to training_1/cp.ckpt\n",
            "1000/1000 [==============================] - 0s 133us/sample - loss: 0.0107 - acc: 1.0000 - val_loss: 0.4277 - val_acc: 0.8740\n",
            "Epoch 9/10\n",
            " 832/1000 [=======================>......] - ETA: 0s - loss: 0.0082 - acc: 1.0000\n",
            "Epoch 00009: saving model to training_1/cp.ckpt\n",
            "1000/1000 [==============================] - 0s 144us/sample - loss: 0.0084 - acc: 1.0000 - val_loss: 0.4229 - val_acc: 0.8720\n",
            "Epoch 10/10\n",
            " 832/1000 [=======================>......] - ETA: 0s - loss: 0.0081 - acc: 1.0000\n",
            "Epoch 00010: saving model to training_1/cp.ckpt\n",
            "1000/1000 [==============================] - 0s 126us/sample - loss: 0.0084 - acc: 1.0000 - val_loss: 0.4329 - val_acc: 0.8740\n"
          ],
          "name": "stdout"
        },
        {
          "output_type": "execute_result",
          "data": {
            "text/plain": [
              "<tensorflow.python.keras.callbacks.History at 0x7ffb9937aa58>"
            ]
          },
          "metadata": {
            "tags": []
          },
          "execution_count": 22
        }
      ]
    },
    {
      "cell_type": "code",
      "metadata": {
        "id": "UNXOJYE_344S",
        "colab_type": "code",
        "colab": {
          "base_uri": "https://localhost:8080/",
          "height": 399
        },
        "outputId": "f4bdd612-2c49-4045-9269-1a3fd76098f4"
      },
      "source": [
        "## Opciones interesantes de la clase Checkpoint\n",
        "\n",
        "# Podemos inciar el tiop de epoca aqui abajo\n",
        "checkpoint_path = \"training_2/cp-{epoch:04d}.ckpt\" \n",
        "checkpoint_dir = os.path.dirname(checkpoint_path)\n",
        "\n",
        "# Modificar parametros del metodo\n",
        "cp_callback = tf.keras.callbacks.ModelCheckpoint(\n",
        "    filepath=checkpoint_path, \n",
        "    verbose=1, \n",
        "    save_weights_only=True,\n",
        "    period=5)                                         # Guardar cada 5 epocas\n",
        "\n",
        "# Podemos guardar de forma manual los pesos mediante el metodo save_weights\n",
        "model = create_model()\n",
        "model.save_weights(checkpoint_path.format(epoch=0))\n",
        "\n",
        "# Realizamos las pruebas\n",
        "model.fit(train_images, \n",
        "              train_labels,\n",
        "              epochs=50, \n",
        "              callbacks=[cp_callback],\n",
        "              validation_data=(test_images,test_labels),\n",
        "              verbose=0)\n"
      ],
      "execution_count": 23,
      "outputs": [
        {
          "output_type": "stream",
          "text": [
            "WARNING:tensorflow:`period` argument is deprecated. Please use `save_freq` to specify the frequency in number of samples seen.\n",
            "\n",
            "Epoch 00005: saving model to training_2/cp-0005.ckpt\n",
            "\n",
            "Epoch 00010: saving model to training_2/cp-0010.ckpt\n",
            "\n",
            "Epoch 00015: saving model to training_2/cp-0015.ckpt\n",
            "\n",
            "Epoch 00020: saving model to training_2/cp-0020.ckpt\n",
            "\n",
            "Epoch 00025: saving model to training_2/cp-0025.ckpt\n",
            "\n",
            "Epoch 00030: saving model to training_2/cp-0030.ckpt\n",
            "\n",
            "Epoch 00035: saving model to training_2/cp-0035.ckpt\n",
            "\n",
            "Epoch 00040: saving model to training_2/cp-0040.ckpt\n",
            "\n",
            "Epoch 00045: saving model to training_2/cp-0045.ckpt\n",
            "\n",
            "Epoch 00050: saving model to training_2/cp-0050.ckpt\n"
          ],
          "name": "stdout"
        },
        {
          "output_type": "execute_result",
          "data": {
            "text/plain": [
              "<tensorflow.python.keras.callbacks.History at 0x7ffb9004ee80>"
            ]
          },
          "metadata": {
            "tags": []
          },
          "execution_count": 23
        }
      ]
    },
    {
      "cell_type": "code",
      "metadata": {
        "id": "3vosC2uw54Jf",
        "colab_type": "code",
        "colab": {
          "base_uri": "https://localhost:8080/",
          "height": 52
        },
        "outputId": "67dd24d0-695b-4a7c-eaed-72a338328f3d"
      },
      "source": [
        "# Podemos coger el ultimo weigt\n",
        "latest = tf.train.latest_checkpoint(checkpoint_dir)\n",
        "latest\n",
        "\n",
        "# Nuevamente creamos el modelo y podemos pasarle los utimos pesos\n",
        "model = create_model()\n",
        "model.load_weights(latest)\n",
        "loss, acc = model.evaluate(test_images,  test_labels, verbose=2)\n",
        "print(\"Su Accuracy es de:\", acc*100, \"%\")"
      ],
      "execution_count": 28,
      "outputs": [
        {
          "output_type": "stream",
          "text": [
            "1000/1000 - 0s - loss: 0.6360 - acc: 0.8810\n",
            "Su Accuracy es de: 88.09999823570251 %\n"
          ],
          "name": "stdout"
        }
      ]
    },
    {
      "cell_type": "code",
      "metadata": {
        "id": "R9JTgjSG60Hn",
        "colab_type": "code",
        "colab": {
          "base_uri": "https://localhost:8080/",
          "height": 278
        },
        "outputId": "432a1f64-29b5-4582-dea9-9ade6b783cbc"
      },
      "source": [
        "# Para guardar los el modelo entero su arquitectura y pesos\n",
        "\n",
        "model.save(\"modelo_guardado.h5\")\n",
        "!ls\n",
        "\n",
        "# Cargamos el modelo en un modelo nuevo\n",
        "\n",
        "nuevo_modelo = tf.keras.models.load_model('modelo_guardado.h5')\n",
        "nuevo_modelo.summary()"
      ],
      "execution_count": 32,
      "outputs": [
        {
          "output_type": "stream",
          "text": [
            "modelo_guardado.h5  sample_data  training_1  training_2\n",
            "Model: \"sequential_5\"\n",
            "_________________________________________________________________\n",
            "Layer (type)                 Output Shape              Param #   \n",
            "=================================================================\n",
            "dense_10 (Dense)             (None, 512)               401920    \n",
            "_________________________________________________________________\n",
            "dropout_5 (Dropout)          (None, 512)               0         \n",
            "_________________________________________________________________\n",
            "dense_11 (Dense)             (None, 10)                5130      \n",
            "=================================================================\n",
            "Total params: 407,050\n",
            "Trainable params: 407,050\n",
            "Non-trainable params: 0\n",
            "_________________________________________________________________\n"
          ],
          "name": "stdout"
        }
      ]
    },
    {
      "cell_type": "code",
      "metadata": {
        "id": "ukJsUeEt731i",
        "colab_type": "code",
        "colab": {}
      },
      "source": [
        "#@title MIT License\n",
        "#\n",
        "# Copyright (c) 2017 François Chollet\n",
        "#\n",
        "# Permission is hereby granted, free of charge, to any person obtaining a\n",
        "# copy of this software and associated documentation files (the \"Software\"),\n",
        "# to deal in the Software without restriction, including without limitation\n",
        "# the rights to use, copy, modify, merge, publish, distribute, sublicense,\n",
        "# and/or sell copies of the Software, and to permit persons to whom the\n",
        "# Software is furnished to do so, subject to the following conditions:\n",
        "#\n",
        "# The above copyright notice and this permission notice shall be included in\n",
        "# all copies or substantial portions of the Software.\n",
        "#\n",
        "# THE SOFTWARE IS PROVIDED \"AS IS\", WITHOUT WARRANTY OF ANY KIND, EXPRESS OR\n",
        "# IMPLIED, INCLUDING BUT NOT LIMITED TO THE WARRANTIES OF MERCHANTABILITY,\n",
        "# FITNESS FOR A PARTICULAR PURPOSE AND NONINFRINGEMENT. IN NO EVENT SHALL\n",
        "# THE AUTHORS OR COPYRIGHT HOLDERS BE LIABLE FOR ANY CLAIM, DAMAGES OR OTHER\n",
        "# LIABILITY, WHETHER IN AN ACTION OF CONTRACT, TORT OR OTHERWISE, ARISING\n",
        "# FROM, OUT OF OR IN CONNECTION WITH THE SOFTWARE OR THE USE OR OTHER\n",
        "# DEALINGS IN THE SOFTWARE.\n"
      ],
      "execution_count": 0,
      "outputs": []
    }
  ]
}